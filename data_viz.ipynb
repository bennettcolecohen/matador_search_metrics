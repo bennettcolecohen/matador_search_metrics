{
 "cells": [
  {
   "cell_type": "code",
   "execution_count": 1,
   "id": "095c8ee3",
   "metadata": {
    "code_folding": [
     0
    ]
   },
   "outputs": [],
   "source": [
    "# Imports \n",
    "import pandas as pd\n",
    "import matplotlib.pyplot as plt\n",
    "\n",
    "import ipywidgets as widgets\n",
    "from ipywidgets import interact, interact_manual"
   ]
  },
  {
   "cell_type": "code",
   "execution_count": 13,
   "id": "407c7e1a",
   "metadata": {
    "code_folding": []
   },
   "outputs": [],
   "source": [
    "# Load all data into single df\n",
    "cities = ['washington_dc', 'los_angeles', 'new_york', 'denver', 'chicago', 'miami']\n",
    "types = ['wrongful_death', 'medical_malpractice', 'car_accident', 'truck_accident', \n",
    "             'motorcycle_accident', 'personal_injury']\n",
    "file_path_list = [f'data/{city}/{lawyer_type}_lawyer_{city}.csv' for city in cities for lawyer_type in types]\n",
    "df = pd.concat([pd.read_csv(file_path) for file_path in file_path_list]).reset_index(drop=True)"
   ]
  },
  {
   "cell_type": "code",
   "execution_count": 15,
   "id": "126fbb46",
   "metadata": {
    "code_folding": [],
    "scrolled": false
   },
   "outputs": [
    {
     "data": {
      "application/vnd.jupyter.widget-view+json": {
       "model_id": "ec4c9ad67c6a4b779bb3cc39aae39fbc",
       "version_major": 2,
       "version_minor": 0
      },
      "text/plain": [
       "interactive(children=(Dropdown(description='City', options=('Washington DC', 'Los Angeles', 'New York', 'Denve…"
      ]
     },
     "metadata": {},
     "output_type": "display_data"
    }
   ],
   "source": [
    "@interact\n",
    "def plot_hist(City = ['Washington DC', 'Los Angeles', 'New York', 'Denver', 'Chicago', 'Miami'],\n",
    "              Phrase = ['Wrongful Death', 'Medical Malpractice', 'Car Accident', 'Truck Accident', \n",
    "             'Motorcycle Accident', 'Personal Injury'], \n",
    "              Statistic = list(df.select_dtypes('number').columns)[1:]): \n",
    "    \n",
    "    # Filter df \n",
    "    full_keyword = f'{Phrase} Lawyer {City}'\n",
    "    print(full_keyword)\n",
    "    df1 = df[df['keyword'] == full_keyword ]\n",
    "    \n",
    "    # Split into performer and non-performer\n",
    "    performer_df = df1[df1['rank'] <= 10]\n",
    "    non_performer_df = df1[df1['rank'] > 10]\n",
    "    \n",
    "    # Plot \n",
    "    fig, ax = plt.subplots(figsize = (10,6))\n",
    "    plt.hist(non_performer_df[Statistic], label = 'Non-Performers', alpha = 0.5, color = 'red', density = True, bins = 5)\n",
    "    plt.hist(performer_df[Statistic], label = 'Performers (Top 10)', alpha = 0.5, color = 'green', density = True, bins = 5)\n",
    "    \n",
    "    # Title and stuff \n",
    "    plt.title(f'{Phrase} Lawyer {City} -- {Statistic}')\n",
    "    plt.xlabel(Statistic)\n",
    "    plt.ylabel('Proportion')\n",
    "    plt.legend();"
   ]
  },
  {
   "cell_type": "code",
   "execution_count": null,
   "id": "a2d6064d",
   "metadata": {},
   "outputs": [],
   "source": []
  }
 ],
 "metadata": {
  "kernelspec": {
   "display_name": "Python 3 (ipykernel)",
   "language": "python",
   "name": "python3"
  },
  "language_info": {
   "codemirror_mode": {
    "name": "ipython",
    "version": 3
   },
   "file_extension": ".py",
   "mimetype": "text/x-python",
   "name": "python",
   "nbconvert_exporter": "python",
   "pygments_lexer": "ipython3",
   "version": "3.11.1"
  }
 },
 "nbformat": 4,
 "nbformat_minor": 5
}
